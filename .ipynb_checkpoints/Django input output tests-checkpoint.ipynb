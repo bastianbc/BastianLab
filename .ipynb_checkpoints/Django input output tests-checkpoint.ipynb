{
 "cells": [
  {
   "cell_type": "code",
   "execution_count": 1,
   "metadata": {},
   "outputs": [],
   "source": [
    "import os\n",
    "os.environ[\"DJANGO_ALLOW_ASYNC_UNSAFE\"] = \"true\""
   ]
  },
  {
   "cell_type": "code",
   "execution_count": 2,
   "metadata": {},
   "outputs": [],
   "source": [
    "import django\n",
    "from django.contrib.auth.models import User\n",
    "# from blog.models import Post\n",
    "user=User.objects.get(username='admin')"
   ]
  },
  {
   "cell_type": "code",
   "execution_count": 3,
   "metadata": {},
   "outputs": [
    {
     "name": "stdout",
     "output_type": "stream",
     "text": [
      "admin\n"
     ]
    }
   ],
   "source": [
    "print(user)"
   ]
  },
  {
   "cell_type": "code",
   "execution_count": 4,
   "metadata": {},
   "outputs": [
    {
     "data": {
      "text/plain": [
       "(<ManyToOneRel: admin.logentry>,\n",
       " <django.db.models.fields.AutoField: id>,\n",
       " <django.db.models.fields.CharField: password>,\n",
       " <django.db.models.fields.DateTimeField: last_login>,\n",
       " <django.db.models.fields.BooleanField: is_superuser>,\n",
       " <django.db.models.fields.CharField: username>,\n",
       " <django.db.models.fields.CharField: first_name>,\n",
       " <django.db.models.fields.CharField: last_name>,\n",
       " <django.db.models.fields.EmailField: email>,\n",
       " <django.db.models.fields.BooleanField: is_staff>,\n",
       " <django.db.models.fields.BooleanField: is_active>,\n",
       " <django.db.models.fields.DateTimeField: date_joined>,\n",
       " <django.db.models.fields.related.ManyToManyField: groups>,\n",
       " <django.db.models.fields.related.ManyToManyField: user_permissions>)"
      ]
     },
     "execution_count": 4,
     "metadata": {},
     "output_type": "execute_result"
    }
   ],
   "source": [
    "User._meta.get_fields()"
   ]
  },
  {
   "cell_type": "code",
   "execution_count": 5,
   "metadata": {},
   "outputs": [
    {
     "data": {
      "text/plain": [
       "['logentry',\n",
       " 'id',\n",
       " 'password',\n",
       " 'last_login',\n",
       " 'is_superuser',\n",
       " 'username',\n",
       " 'first_name',\n",
       " 'last_name',\n",
       " 'email',\n",
       " 'is_staff',\n",
       " 'is_active',\n",
       " 'date_joined',\n",
       " 'groups',\n",
       " 'user_permissions']"
      ]
     },
     "execution_count": 5,
     "metadata": {},
     "output_type": "execute_result"
    }
   ],
   "source": [
    "[f.name for f in User._meta.get_fields()]"
   ]
  },
  {
   "cell_type": "code",
   "execution_count": 6,
   "metadata": {},
   "outputs": [],
   "source": [
    "from lab.views import PatientList, PatientCreate, PatientUpdate, PatientDelete"
   ]
  },
  {
   "cell_type": "code",
   "execution_count": 7,
   "metadata": {},
   "outputs": [],
   "source": [
    "from lab.models import Patients, Blocks, Areas \n",
    "from libprep.models import NucAcids"
   ]
  },
  {
   "cell_type": "code",
   "execution_count": 8,
   "metadata": {},
   "outputs": [],
   "source": [
    "e=Patients.objects.get(pk=123)"
   ]
  },
  {
   "cell_type": "code",
   "execution_count": 9,
   "metadata": {},
   "outputs": [],
   "source": [
    "f=Blocks.objects.get(pk=234)"
   ]
  },
  {
   "cell_type": "code",
   "execution_count": 10,
   "metadata": {},
   "outputs": [
    {
     "data": {
      "text/plain": [
       "'T17-35486A'"
      ]
     },
     "execution_count": 10,
     "metadata": {},
     "output_type": "execute_result"
    }
   ],
   "source": [
    "f.old_block_id"
   ]
  },
  {
   "cell_type": "code",
   "execution_count": 11,
   "metadata": {},
   "outputs": [
    {
     "name": "stdout",
     "output_type": "stream",
     "text": [
      "T17-35486A\n"
     ]
    }
   ],
   "source": [
    "print(f.old_block_id)"
   ]
  },
  {
   "cell_type": "code",
   "execution_count": 12,
   "metadata": {},
   "outputs": [
    {
     "data": {
      "text/plain": [
       "<Patients: Patients object (277)>"
      ]
     },
     "execution_count": 12,
     "metadata": {},
     "output_type": "execute_result"
    }
   ],
   "source": [
    "f.patient"
   ]
  },
  {
   "cell_type": "code",
   "execution_count": 13,
   "metadata": {},
   "outputs": [],
   "source": [
    "qs=Patients.objects.filter(source__contains='Japan')"
   ]
  },
  {
   "cell_type": "code",
   "execution_count": 14,
   "metadata": {},
   "outputs": [
    {
     "data": {
      "text/plain": [
       "'Japan'"
      ]
     },
     "execution_count": 14,
     "metadata": {},
     "output_type": "execute_result"
    }
   ],
   "source": [
    "qs[1].source"
   ]
  },
  {
   "cell_type": "code",
   "execution_count": 15,
   "metadata": {},
   "outputs": [],
   "source": [
    "na=NucAcids.objects.get(pk=123)"
   ]
  },
  {
   "cell_type": "code",
   "execution_count": 29,
   "metadata": {},
   "outputs": [
    {
     "data": {
      "text/plain": [
       "'Punch'"
      ]
     },
     "execution_count": 29,
     "metadata": {},
     "output_type": "execute_result"
    }
   ],
   "source": [
    "na.area.collection"
   ]
  },
  {
   "cell_type": "code",
   "execution_count": 35,
   "metadata": {},
   "outputs": [],
   "source": [
    "from libprep.forms import BaseNucAcids\n",
    "from django.forms.models import modelformset_factory\n",
    "from django.forms import Textarea, formset_factory, TextInput"
   ]
  },
  {
   "cell_type": "code",
   "execution_count": 43,
   "metadata": {},
   "outputs": [],
   "source": [
    "NucAcidsFormset = modelformset_factory(NucAcids, \n",
    "        formset = BaseNucAcids,\n",
    "        fields = ('nu_id', 'na_type', 'date_extr', 'method', 'qubit', 'volume', 'amount',\n",
    "                    're_ext', 'total_ext', 'na_sheared', 'shearing_vol', 'te_vol', 'area',),\n",
    "        labels = '',\n",
    "        widgets = {'nu_id': TextInput(attrs={'readonly': 'readonly'}),'blocks.old_block_id':\n",
    "                 TextInput(attrs={'readonly': 'readonly'})   \n",
    "            },\n",
    "        # formset = BaseNucAcidsFormSet,\n",
    "        can_delete=False,\n",
    "        extra=0\n",
    "    )"
   ]
  },
  {
   "cell_type": "code",
   "execution_count": 46,
   "metadata": {},
   "outputs": [
    {
     "data": {
      "text/plain": [
       "type"
      ]
     },
     "execution_count": 46,
     "metadata": {},
     "output_type": "execute_result"
    }
   ],
   "source": [
    "type(NucAcidsFormset)"
   ]
  },
  {
   "cell_type": "code",
   "execution_count": 47,
   "metadata": {},
   "outputs": [
    {
     "data": {
      "text/plain": [
       "<django.forms.formsets.NucAcidsFormFormSet at 0x7fc5ba289450>"
      ]
     },
     "execution_count": 47,
     "metadata": {},
     "output_type": "execute_result"
    }
   ],
   "source": [
    "NucAcidsFormset(type)"
   ]
  },
  {
   "cell_type": "code",
   "execution_count": 44,
   "metadata": {},
   "outputs": [],
   "source": [
    "formi=NucAcidsFormset()"
   ]
  },
  {
   "cell_type": "code",
   "execution_count": 49,
   "metadata": {},
   "outputs": [
    {
     "data": {
      "text/plain": [
       "django.forms.formsets.NucAcidsFormFormSet"
      ]
     },
     "execution_count": 49,
     "metadata": {},
     "output_type": "execute_result"
    }
   ],
   "source": [
    "type(formi)"
   ]
  },
  {
   "cell_type": "code",
   "execution_count": 51,
   "metadata": {},
   "outputs": [
    {
     "name": "stdout",
     "output_type": "stream",
     "text": [
      "Punch\n",
      "Punch\n",
      "Punch\n",
      "Punch\n"
     ]
    }
   ],
   "source": [
    "for form in formi:\n",
    "    print(form.instance.area.collection)"
   ]
  },
  {
   "cell_type": "code",
   "execution_count": null,
   "metadata": {},
   "outputs": [],
   "source": []
  }
 ],
 "metadata": {
  "kernelspec": {
   "display_name": "Django Shell-Plus",
   "language": "python",
   "name": "django_extensions"
  },
  "language_info": {
   "codemirror_mode": {
    "name": "ipython",
    "version": 3
   },
   "file_extension": ".py",
   "mimetype": "text/x-python",
   "name": "python",
   "nbconvert_exporter": "python",
   "pygments_lexer": "ipython3",
   "version": "3.7.4"
  }
 },
 "nbformat": 4,
 "nbformat_minor": 2
}
