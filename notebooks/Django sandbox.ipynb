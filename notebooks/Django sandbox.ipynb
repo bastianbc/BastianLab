{
 "cells": [
  {
   "cell_type": "code",
   "execution_count": 1,
   "metadata": {},
   "outputs": [],
   "source": [
    "import os\n",
    "os.environ[\"DJANGO_ALLOW_ASYNC_UNSAFE\"] = \"true\""
   ]
  },
  {
   "cell_type": "code",
   "execution_count": 2,
   "metadata": {},
   "outputs": [
    {
     "data": {
      "text/plain": [
       "'3.0.5'"
      ]
     },
     "execution_count": 2,
     "metadata": {},
     "output_type": "execute_result"
    }
   ],
   "source": [
    "import django\n",
    "django.get_version()"
   ]
  },
  {
   "cell_type": "code",
   "execution_count": null,
   "metadata": {},
   "outputs": [],
   "source": []
  },
  {
   "cell_type": "code",
   "execution_count": 3,
   "metadata": {},
   "outputs": [],
   "source": [
    "from django import db\n",
    "db.connections.close_all()"
   ]
  },
  {
   "cell_type": "code",
   "execution_count": 4,
   "metadata": {},
   "outputs": [],
   "source": [
    "from django import forms"
   ]
  },
  {
   "cell_type": "code",
   "execution_count": 5,
   "metadata": {},
   "outputs": [],
   "source": [
    "class SimpleForm(forms.Form):\n",
    "    firstname=forms.CharField(max_length=100)\n",
    "    lastname=forms.CharField(max_length=100)"
   ]
  },
  {
   "cell_type": "code",
   "execution_count": 6,
   "metadata": {},
   "outputs": [],
   "source": [
    "f=SimpleForm()"
   ]
  },
  {
   "cell_type": "code",
   "execution_count": 7,
   "metadata": {},
   "outputs": [
    {
     "name": "stdout",
     "output_type": "stream",
     "text": [
      "<p><label for=\"id_firstname\">Firstname:</label> <input type=\"text\" name=\"firstname\" maxlength=\"100\" required id=\"id_firstname\"></p>\n",
      "<p><label for=\"id_lastname\">Lastname:</label> <input type=\"text\" name=\"lastname\" maxlength=\"100\" required id=\"id_lastname\"></p>\n"
     ]
    }
   ],
   "source": [
    "print(f.as_p())"
   ]
  },
  {
   "cell_type": "code",
   "execution_count": 8,
   "metadata": {},
   "outputs": [
    {
     "name": "stdout",
     "output_type": "stream",
     "text": [
      "<li><label for=\"id_firstname\">Firstname:</label> <input type=\"text\" name=\"firstname\" maxlength=\"100\" required id=\"id_firstname\"></li>\n",
      "<li><label for=\"id_lastname\">Lastname:</label> <input type=\"text\" name=\"lastname\" maxlength=\"100\" required id=\"id_lastname\"></li>\n"
     ]
    }
   ],
   "source": [
    "print(f.as_ul())"
   ]
  },
  {
   "cell_type": "code",
   "execution_count": 9,
   "metadata": {},
   "outputs": [
    {
     "name": "stdout",
     "output_type": "stream",
     "text": [
      "<tr><th><label for=\"id_firstname\">Firstname:</label></th><td><input type=\"text\" name=\"firstname\" maxlength=\"100\" required id=\"id_firstname\"></td></tr>\n",
      "<tr><th><label for=\"id_lastname\">Lastname:</label></th><td><input type=\"text\" name=\"lastname\" maxlength=\"100\" required id=\"id_lastname\"></td></tr>\n"
     ]
    }
   ],
   "source": [
    "print(f.as_table())"
   ]
  },
  {
   "cell_type": "code",
   "execution_count": 10,
   "metadata": {},
   "outputs": [],
   "source": [
    "f=SimpleForm({})"
   ]
  },
  {
   "cell_type": "code",
   "execution_count": 11,
   "metadata": {},
   "outputs": [
    {
     "data": {
      "text/plain": [
       "False"
      ]
     },
     "execution_count": 11,
     "metadata": {},
     "output_type": "execute_result"
    }
   ],
   "source": [
    "f.is_valid()"
   ]
  },
  {
   "cell_type": "code",
   "execution_count": 12,
   "metadata": {},
   "outputs": [
    {
     "data": {
      "text/plain": [
       "{'firstname': ['This field is required.'],\n",
       " 'lastname': ['This field is required.']}"
      ]
     },
     "execution_count": 12,
     "metadata": {},
     "output_type": "execute_result"
    }
   ],
   "source": [
    "f.errors"
   ]
  },
  {
   "cell_type": "code",
   "execution_count": 13,
   "metadata": {},
   "outputs": [
    {
     "name": "stdout",
     "output_type": "stream",
     "text": [
      "<ul class=\"errorlist\"><li>This field is required.</li></ul>\n",
      "<p><label for=\"id_firstname\">Firstname:</label> <input type=\"text\" name=\"firstname\" maxlength=\"100\" required id=\"id_firstname\"></p>\n",
      "<ul class=\"errorlist\"><li>This field is required.</li></ul>\n",
      "<p><label for=\"id_lastname\">Lastname:</label> <input type=\"text\" name=\"lastname\" maxlength=\"100\" required id=\"id_lastname\"></p>\n"
     ]
    }
   ],
   "source": [
    "print(f.as_p())"
   ]
  },
  {
   "cell_type": "code",
   "execution_count": 14,
   "metadata": {},
   "outputs": [],
   "source": [
    "from django.db.models import Model"
   ]
  },
  {
   "cell_type": "markdown",
   "metadata": {},
   "source": [
    "### This is how you write a record"
   ]
  },
  {
   "cell_type": "code",
   "execution_count": 15,
   "metadata": {},
   "outputs": [
    {
     "ename": "RuntimeError",
     "evalue": "Model class quotes.models.Quote doesn't declare an explicit app_label and isn't in an application in INSTALLED_APPS.",
     "output_type": "error",
     "traceback": [
      "\u001b[0;31m---------------------------------------------------------------------------\u001b[0m",
      "\u001b[0;31mRuntimeError\u001b[0m                              Traceback (most recent call last)",
      "\u001b[0;32m<ipython-input-15-3d073675b8cb>\u001b[0m in \u001b[0;36m<module>\u001b[0;34m\u001b[0m\n\u001b[0;32m----> 1\u001b[0;31m \u001b[0;32mfrom\u001b[0m \u001b[0mquotes\u001b[0m\u001b[0;34m.\u001b[0m\u001b[0mmodels\u001b[0m \u001b[0;32mimport\u001b[0m \u001b[0mQuote\u001b[0m\u001b[0;34m\u001b[0m\u001b[0;34m\u001b[0m\u001b[0m\n\u001b[0m",
      "\u001b[0;32m/opt/anaconda3/envs/labDB2/test1root/quotes/models.py\u001b[0m in \u001b[0;36m<module>\u001b[0;34m\u001b[0m\n\u001b[1;32m     13\u001b[0m )\n\u001b[1;32m     14\u001b[0m \u001b[0;34m\u001b[0m\u001b[0m\n\u001b[0;32m---> 15\u001b[0;31m \u001b[0;32mclass\u001b[0m \u001b[0mQuote\u001b[0m\u001b[0;34m(\u001b[0m\u001b[0mmodels\u001b[0m\u001b[0;34m.\u001b[0m\u001b[0mModel\u001b[0m\u001b[0;34m)\u001b[0m\u001b[0;34m:\u001b[0m\u001b[0;34m\u001b[0m\u001b[0;34m\u001b[0m\u001b[0m\n\u001b[0m\u001b[1;32m     16\u001b[0m     \u001b[0mname\u001b[0m \u001b[0;34m=\u001b[0m \u001b[0mmodels\u001b[0m\u001b[0;34m.\u001b[0m\u001b[0mCharField\u001b[0m\u001b[0;34m(\u001b[0m\u001b[0mmax_length\u001b[0m\u001b[0;34m=\u001b[0m\u001b[0;36m100\u001b[0m\u001b[0;34m)\u001b[0m\u001b[0;34m\u001b[0m\u001b[0;34m\u001b[0m\u001b[0m\n\u001b[1;32m     17\u001b[0m     \u001b[0mposition\u001b[0m \u001b[0;34m=\u001b[0m \u001b[0mmodels\u001b[0m\u001b[0;34m.\u001b[0m\u001b[0mCharField\u001b[0m\u001b[0;34m(\u001b[0m\u001b[0mmax_length\u001b[0m\u001b[0;34m=\u001b[0m\u001b[0;36m60\u001b[0m\u001b[0;34m,\u001b[0m \u001b[0mblank\u001b[0m\u001b[0;34m=\u001b[0m\u001b[0;32mTrue\u001b[0m\u001b[0;34m)\u001b[0m\u001b[0;34m\u001b[0m\u001b[0;34m\u001b[0m\u001b[0m\n",
      "\u001b[0;32m/opt/anaconda3/envs/labDB2/lib/python3.7/site-packages/django/db/models/base.py\u001b[0m in \u001b[0;36m__new__\u001b[0;34m(cls, name, bases, attrs, **kwargs)\u001b[0m\n\u001b[1;32m    113\u001b[0m                         \u001b[0;34m\"Model class %s.%s doesn't declare an explicit \"\u001b[0m\u001b[0;34m\u001b[0m\u001b[0;34m\u001b[0m\u001b[0m\n\u001b[1;32m    114\u001b[0m                         \u001b[0;34m\"app_label and isn't in an application in \"\u001b[0m\u001b[0;34m\u001b[0m\u001b[0;34m\u001b[0m\u001b[0m\n\u001b[0;32m--> 115\u001b[0;31m                         \u001b[0;34m\"INSTALLED_APPS.\"\u001b[0m \u001b[0;34m%\u001b[0m \u001b[0;34m(\u001b[0m\u001b[0mmodule\u001b[0m\u001b[0;34m,\u001b[0m \u001b[0mname\u001b[0m\u001b[0;34m)\u001b[0m\u001b[0;34m\u001b[0m\u001b[0;34m\u001b[0m\u001b[0m\n\u001b[0m\u001b[1;32m    116\u001b[0m                     )\n\u001b[1;32m    117\u001b[0m \u001b[0;34m\u001b[0m\u001b[0m\n",
      "\u001b[0;31mRuntimeError\u001b[0m: Model class quotes.models.Quote doesn't declare an explicit app_label and isn't in an application in INSTALLED_APPS."
     ]
    }
   ],
   "source": [
    "from quotes.models import Quote"
   ]
  },
  {
   "cell_type": "code",
   "execution_count": 22,
   "metadata": {},
   "outputs": [],
   "source": [
    "x=Quote(name='Dieter Kuschinski',company='Deppert & Co')"
   ]
  },
  {
   "cell_type": "code",
   "execution_count": 23,
   "metadata": {},
   "outputs": [],
   "source": [
    "x.save()"
   ]
  },
  {
   "cell_type": "markdown",
   "metadata": {},
   "source": [
    "### This is how you read a record"
   ]
  },
  {
   "cell_type": "code",
   "execution_count": 24,
   "metadata": {},
   "outputs": [],
   "source": [
    "q=Quote.objects.filter(name__startswith=('Dieter'))"
   ]
  },
  {
   "cell_type": "code",
   "execution_count": 25,
   "metadata": {},
   "outputs": [
    {
     "name": "stdout",
     "output_type": "stream",
     "text": [
      "<QuerySet [{'id': 8, 'name': 'Dieter Kuschinski', 'position': '', 'company': 'Deppert & Co', 'address': '', 'phone': '', 'email': '', 'web': '', 'description': '', 'sitestatus': '', 'priority': '', 'jobfile': '', 'submitted': datetime.date(2020, 5, 2), 'quotedate': None, 'quoteprice': Decimal('0.00'), 'username_id': None}, {'id': 9, 'name': 'Dieter Kuschinski', 'position': '', 'company': 'Deppert & Co', 'address': '', 'phone': '', 'email': '', 'web': '', 'description': '', 'sitestatus': '', 'priority': '', 'jobfile': '', 'submitted': datetime.date(2020, 5, 11), 'quotedate': None, 'quoteprice': Decimal('0.00'), 'username_id': None}]>\n"
     ]
    }
   ],
   "source": [
    "print(q.values())"
   ]
  },
  {
   "cell_type": "code",
   "execution_count": 26,
   "metadata": {},
   "outputs": [],
   "source": [
    "kwargs={'name':'Dieter Kuschinksi'}"
   ]
  },
  {
   "cell_type": "code",
   "execution_count": 34,
   "metadata": {},
   "outputs": [],
   "source": [
    "q=Quote.objects.filter(**kwargs)"
   ]
  },
  {
   "cell_type": "code",
   "execution_count": 28,
   "metadata": {},
   "outputs": [
    {
     "name": "stdout",
     "output_type": "stream",
     "text": [
      "<QuerySet []>\n"
     ]
    }
   ],
   "source": [
    "print(q)"
   ]
  },
  {
   "cell_type": "code",
   "execution_count": 29,
   "metadata": {},
   "outputs": [],
   "source": [
    "one_entry = Quote.objects.get(pk=1)"
   ]
  },
  {
   "cell_type": "code",
   "execution_count": 30,
   "metadata": {},
   "outputs": [
    {
     "name": "stdout",
     "output_type": "stream",
     "text": [
      "1\n"
     ]
    }
   ],
   "source": [
    "print(one_entry)"
   ]
  },
  {
   "cell_type": "code",
   "execution_count": 31,
   "metadata": {},
   "outputs": [],
   "source": [
    "one_entry = Quote.objects.filter(name='Boris Bastian').values()"
   ]
  },
  {
   "cell_type": "code",
   "execution_count": 32,
   "metadata": {},
   "outputs": [
    {
     "name": "stdout",
     "output_type": "stream",
     "text": [
      "<QuerySet [{'id': 2, 'name': 'Boris Bastian', 'position': 'Chef', 'company': 'Home', 'address': '31 Girard', 'phone': '4155133853', 'email': 'boris.bastian@ucsf.edu', 'web': '', 'description': 'No this is another attempt to add some more stuff in here', 'sitestatus': 'NEW', 'priority': 'U', 'jobfile': '', 'submitted': datetime.date(2020, 4, 15), 'quotedate': None, 'quoteprice': Decimal('0.00'), 'username_id': None}, {'id': 3, 'name': 'Boris Bastian', 'position': '', 'company': 'UCSF', 'address': '1701 Divisadero St', 'phone': '4155020267', 'email': 'boris.bastian@ucsf.edu', 'web': '', 'description': 'a;lkds;lfkja;sd', 'sitestatus': 'NEW', 'priority': 'U', 'jobfile': 'uploads/Contact_Apple_Store.html', 'submitted': datetime.date(2020, 4, 15), 'quotedate': None, 'quoteprice': Decimal('0.00'), 'username_id': None}, {'id': 4, 'name': 'Boris Bastian', 'position': '', 'company': 'UCSF', 'address': '1701 Divisadero St', 'phone': '4155020267', 'email': 'boris.bastian@ucsf.edu', 'web': '', 'description': 'a;lkds;lfkja;sd', 'sitestatus': 'NEW', 'priority': 'U', 'jobfile': 'uploads/Contact_Apple_Store_x4mVCQa.html', 'submitted': datetime.date(2020, 4, 15), 'quotedate': None, 'quoteprice': Decimal('0.00'), 'username_id': None}]>\n"
     ]
    }
   ],
   "source": [
    "print(one_entry)"
   ]
  },
  {
   "cell_type": "code",
   "execution_count": 22,
   "metadata": {},
   "outputs": [
    {
     "data": {
      "text/plain": [
       "<django.db.models.manager.Manager at 0x1045c1a90>"
      ]
     },
     "execution_count": 22,
     "metadata": {},
     "output_type": "execute_result"
    }
   ],
   "source": [
    "Quote.objects"
   ]
  },
  {
   "cell_type": "code",
   "execution_count": 3,
   "metadata": {},
   "outputs": [],
   "source": [
    "from lab.models import Patients, Blocks, Areas"
   ]
  },
  {
   "cell_type": "code",
   "execution_count": 4,
   "metadata": {},
   "outputs": [
    {
     "data": {
      "text/plain": [
       "<QuerySet [{'pat_id': 'AM2-030', 'sex': 'F', 'age': 61.0, 'race': 'U', 'source': 'Chile', 'blocks_temp': '604076', 'notes': 'Nonsense', 'project': 'Acral Melanoma'}, {'pat_id': 'BB3-1', 'sex': 'M', 'age': None, 'race': 'U', 'source': 'Chile', 'blocks_temp': None, 'notes': None, 'project': 'None'}]>"
      ]
     },
     "execution_count": 4,
     "metadata": {},
     "output_type": "execute_result"
    }
   ],
   "source": [
    "Patients.objects.filter(source__startswith='Chile').values()"
   ]
  },
  {
   "cell_type": "code",
   "execution_count": 5,
   "metadata": {},
   "outputs": [
    {
     "data": {
      "text/plain": [
       "{'pat_id': 'AM2-030',\n",
       " 'sex': 'F',\n",
       " 'age': 61.0,\n",
       " 'race': 'U',\n",
       " 'source': 'Chile',\n",
       " 'blocks_temp': '604076',\n",
       " 'notes': 'Nonsense',\n",
       " 'project': 'Acral Melanoma'}"
      ]
     },
     "execution_count": 5,
     "metadata": {},
     "output_type": "execute_result"
    }
   ],
   "source": [
    "Patients.objects.filter(source__startswith='Chile').values()[0]"
   ]
  },
  {
   "cell_type": "code",
   "execution_count": 38,
   "metadata": {},
   "outputs": [
    {
     "data": {
      "text/plain": [
       "61.0"
      ]
     },
     "execution_count": 38,
     "metadata": {},
     "output_type": "execute_result"
    }
   ],
   "source": [
    "Patients.objects.filter(source__startswith='Chile').values()[0].get('age')"
   ]
  },
  {
   "cell_type": "code",
   "execution_count": 39,
   "metadata": {},
   "outputs": [
    {
     "name": "stdout",
     "output_type": "stream",
     "text": [
      "61.0\n",
      "None\n"
     ]
    }
   ],
   "source": [
    "qs=Patients.objects.filter(source__startswith='Chile').values()\n",
    "for e in qs: \n",
    "    print(e.get('age'))"
   ]
  },
  {
   "cell_type": "code",
   "execution_count": 6,
   "metadata": {},
   "outputs": [
    {
     "data": {
      "text/plain": [
       "'604076'"
      ]
     },
     "execution_count": 6,
     "metadata": {},
     "output_type": "execute_result"
    }
   ],
   "source": [
    "Blocks.objects.filter(pat_id__source='Chile').values()[0].get('block_id')"
   ]
  },
  {
   "cell_type": "code",
   "execution_count": 7,
   "metadata": {},
   "outputs": [
    {
     "data": {
      "text/plain": [
       "<QuerySet [('AM2-030', 'F', 61.0, 'U', 'Chile', '604076', 'Nonsense', 'Acral Melanoma'), ('BB3-1', 'M', None, 'U', 'Chile', None, None, 'None')]>"
      ]
     },
     "execution_count": 7,
     "metadata": {},
     "output_type": "execute_result"
    }
   ],
   "source": [
    "Patients.objects.filter(source__startswith='Chile').values_list()"
   ]
  },
  {
   "cell_type": "code",
   "execution_count": 22,
   "metadata": {},
   "outputs": [
    {
     "data": {
      "text/plain": [
       "<QuerySet [{'pat_id': 'AM2-030', 'sex': 'F', 'age': 61.0, 'race': 'U', 'source': 'Chile', 'blocks_temp': '604076', 'notes': 'Nonsense', 'project': 'Acral Melanoma'}, {'pat_id': 'BB3-1', 'sex': 'M', 'age': None, 'race': 'U', 'source': 'Chile', 'blocks_temp': None, 'notes': None, 'project': 'None'}]>"
      ]
     },
     "execution_count": 22,
     "metadata": {},
     "output_type": "execute_result"
    }
   ],
   "source": [
    "q=Patients.objects.filter(source__startswith='Chile').values()\n",
    "q"
   ]
  },
  {
   "cell_type": "code",
   "execution_count": 9,
   "metadata": {},
   "outputs": [
    {
     "data": {
      "text/plain": [
       "<QuerySet [{'project': 'Acral Melanoma'}, {'project': 'Acral Melanoma'}, {'project': 'Acral Melanoma'}, {'project': 'Acral Melanoma'}, {'project': 'Acral Melanoma'}, {'project': 'Acral Melanoma'}, {'project': 'Acral Melanoma'}, {'project': 'Acral Melanoma'}, {'project': 'Acral Melanoma'}, {'project': 'Acral Melanoma'}, {'project': 'Acral Melanoma'}, {'project': 'Acral Melanoma'}, {'project': 'Acral Melanoma'}, {'project': 'Acral Melanoma'}, {'project': 'Acral Melanoma'}, {'project': 'Acral Melanoma'}, {'project': 'Acral Melanoma'}, {'project': 'Acral Melanoma'}, {'project': 'Acral Melanoma'}, {'project': 'Acral Melanoma'}, '...(remaining elements truncated)...']>"
      ]
     },
     "execution_count": 9,
     "metadata": {},
     "output_type": "execute_result"
    }
   ],
   "source": [
    "p=Patients.objects.filter(source__startswith='Japan')\n",
    "p.values('project')"
   ]
  },
  {
   "cell_type": "code",
   "execution_count": 61,
   "metadata": {},
   "outputs": [
    {
     "data": {
      "text/plain": [
       "3"
      ]
     },
     "execution_count": 61,
     "metadata": {},
     "output_type": "execute_result"
    }
   ],
   "source": [
    "q=Patients.objects.get(pat_id='AM2-040')\n",
    "q.blocks_set.count()"
   ]
  },
  {
   "cell_type": "code",
   "execution_count": null,
   "metadata": {},
   "outputs": [],
   "source": []
  },
  {
   "cell_type": "code",
   "execution_count": 62,
   "metadata": {},
   "outputs": [
    {
     "name": "stdout",
     "output_type": "stream",
     "text": [
      "<QuerySet [{'block_id': 'B13.26332/1', 'pat_id_id': 'AM2-040', 'body_site': None, 'ulceration': None, 'slides': None, 'slides_left': None, 'fixation': 'FFPE', 'project': 'Acral melanoma', 'diagnosis': None, 'storage': None, 'notes': None, 'receive': None}, {'block_id': 'H13.10897/2', 'pat_id_id': 'AM2-040', 'body_site': None, 'ulceration': None, 'slides': None, 'slides_left': None, 'fixation': 'FFPE', 'project': 'Acral melanoma', 'diagnosis': None, 'storage': None, 'notes': None, 'receive': None}, {'block_id': 'H13.10897/11', 'pat_id_id': 'AM2-040', 'body_site': None, 'ulceration': None, 'slides': None, 'slides_left': None, 'fixation': 'FFPE', 'project': 'Acral melanoma', 'diagnosis': None, 'storage': None, 'notes': None, 'receive': None}]>\n"
     ]
    }
   ],
   "source": [
    "p=q.blocks_set.all()\n",
    "print(p.values())"
   ]
  },
  {
   "cell_type": "code",
   "execution_count": 34,
   "metadata": {},
   "outputs": [
    {
     "ename": "AttributeError",
     "evalue": "'Patients' object has no attribute 'entry_set'",
     "output_type": "error",
     "traceback": [
      "\u001b[0;31m---------------------------------------------------------------------------\u001b[0m",
      "\u001b[0;31mAttributeError\u001b[0m                            Traceback (most recent call last)",
      "\u001b[0;32m<ipython-input-34-db8cd072cfaa>\u001b[0m in \u001b[0;36m<module>\u001b[0;34m\u001b[0m\n\u001b[0;32m----> 1\u001b[0;31m \u001b[0mq\u001b[0m\u001b[0;34m.\u001b[0m\u001b[0mentry_set\u001b[0m\u001b[0;34m.\u001b[0m\u001b[0mall\u001b[0m\u001b[0;34m(\u001b[0m\u001b[0;34m)\u001b[0m\u001b[0;34m\u001b[0m\u001b[0;34m\u001b[0m\u001b[0m\n\u001b[0m",
      "\u001b[0;31mAttributeError\u001b[0m: 'Patients' object has no attribute 'entry_set'"
     ]
    }
   ],
   "source": [
    "q.entry_set.all()"
   ]
  },
  {
   "cell_type": "code",
   "execution_count": 69,
   "metadata": {},
   "outputs": [],
   "source": [
    "f=Blocks.objects.get(pk='B13.26332/1')"
   ]
  },
  {
   "cell_type": "code",
   "execution_count": 76,
   "metadata": {},
   "outputs": [
    {
     "data": {
      "text/plain": [
       "['DoesNotExist',\n",
       " 'MultipleObjectsReturned',\n",
       " '__class__',\n",
       " '__delattr__',\n",
       " '__dict__',\n",
       " '__dir__',\n",
       " '__doc__',\n",
       " '__eq__',\n",
       " '__format__',\n",
       " '__ge__',\n",
       " '__getattribute__',\n",
       " '__getstate__',\n",
       " '__gt__',\n",
       " '__hash__',\n",
       " '__init__',\n",
       " '__init_subclass__',\n",
       " '__le__',\n",
       " '__lt__',\n",
       " '__module__',\n",
       " '__ne__',\n",
       " '__new__',\n",
       " '__reduce__',\n",
       " '__reduce_ex__',\n",
       " '__repr__',\n",
       " '__setattr__',\n",
       " '__setstate__',\n",
       " '__sizeof__',\n",
       " '__str__',\n",
       " '__subclasshook__',\n",
       " '__weakref__',\n",
       " '_check_column_name_clashes',\n",
       " '_check_constraints',\n",
       " '_check_field_name_clashes',\n",
       " '_check_fields',\n",
       " '_check_id_field',\n",
       " '_check_index_together',\n",
       " '_check_indexes',\n",
       " '_check_local_fields',\n",
       " '_check_long_column_names',\n",
       " '_check_m2m_through_same_relationship',\n",
       " '_check_managers',\n",
       " '_check_model',\n",
       " '_check_model_name_db_lookup_clashes',\n",
       " '_check_ordering',\n",
       " '_check_property_name_related_field_accessor_clashes',\n",
       " '_check_single_primary_key',\n",
       " '_check_swappable',\n",
       " '_check_unique_together',\n",
       " '_do_insert',\n",
       " '_do_update',\n",
       " '_get_FIELD_display',\n",
       " '_get_next_or_previous_by_FIELD',\n",
       " '_get_next_or_previous_in_order',\n",
       " '_get_pk_val',\n",
       " '_get_unique_checks',\n",
       " '_meta',\n",
       " '_perform_date_checks',\n",
       " '_perform_unique_checks',\n",
       " '_save_parents',\n",
       " '_save_table',\n",
       " '_set_pk_val',\n",
       " '_state',\n",
       " 'age',\n",
       " 'blocks_set',\n",
       " 'blocks_temp',\n",
       " 'check',\n",
       " 'clean',\n",
       " 'clean_fields',\n",
       " 'date_error_message',\n",
       " 'delete',\n",
       " 'from_db',\n",
       " 'full_clean',\n",
       " 'get_absolute_url',\n",
       " 'get_deferred_fields',\n",
       " 'notes',\n",
       " 'objects',\n",
       " 'pat_id',\n",
       " 'pk',\n",
       " 'prepare_database_save',\n",
       " 'project',\n",
       " 'race',\n",
       " 'refresh_from_db',\n",
       " 'save',\n",
       " 'save_base',\n",
       " 'serializable_value',\n",
       " 'sex',\n",
       " 'source',\n",
       " 'unique_error_message',\n",
       " 'validate_unique']"
      ]
     },
     "execution_count": 76,
     "metadata": {},
     "output_type": "execute_result"
    }
   ],
   "source": [
    "dir(f.pat_id)"
   ]
  },
  {
   "cell_type": "code",
   "execution_count": 65,
   "metadata": {},
   "outputs": [
    {
     "data": {
      "text/plain": [
       "(<ManyToOneRel: lab.areas>,\n",
       " <django.db.models.fields.CharField: block_id>,\n",
       " <django.db.models.fields.related.ForeignKey: pat_id>,\n",
       " <django.db.models.fields.CharField: body_site>,\n",
       " <django.db.models.fields.BooleanField: ulceration>,\n",
       " <django.db.models.fields.IntegerField: slides>,\n",
       " <django.db.models.fields.IntegerField: slides_left>,\n",
       " <django.db.models.fields.CharField: fixation>,\n",
       " <django.db.models.fields.CharField: project>,\n",
       " <django.db.models.fields.CharField: diagnosis>,\n",
       " <django.db.models.fields.CharField: storage>,\n",
       " <django.db.models.fields.CharField: notes>,\n",
       " <django.db.models.fields.DateField: receive>)"
      ]
     },
     "execution_count": 65,
     "metadata": {},
     "output_type": "execute_result"
    }
   ],
   "source": [
    "Blocks._meta.get_fields()"
   ]
  },
  {
   "cell_type": "markdown",
   "metadata": {},
   "source": [
    "### Going from Blocks to get the Patient in the parent and then get all his blocks"
   ]
  },
  {
   "cell_type": "code",
   "execution_count": 71,
   "metadata": {},
   "outputs": [
    {
     "data": {
      "text/plain": [
       "<Patients: Patients object (AM2-040)>"
      ]
     },
     "execution_count": 71,
     "metadata": {},
     "output_type": "execute_result"
    }
   ],
   "source": [
    "f.pat_id"
   ]
  },
  {
   "cell_type": "code",
   "execution_count": 81,
   "metadata": {},
   "outputs": [
    {
     "data": {
      "text/plain": [
       "3"
      ]
     },
     "execution_count": 81,
     "metadata": {},
     "output_type": "execute_result"
    }
   ],
   "source": [
    "f.pat_id.blocks_set.count()"
   ]
  },
  {
   "cell_type": "code",
   "execution_count": 23,
   "metadata": {},
   "outputs": [
    {
     "data": {
      "text/plain": [
       "<QuerySet [{'block_id': 'H13-123123', 'pat_id_id': 'BB7-2', 'body_site': 'Left gluteal', 'ulceration': None, 'slides': None, 'slides_left': None, 'fixation': None, 'project': None, 'diagnosis': None, 'storage': None, 'notes': None, 'receive': None}]>"
      ]
     },
     "execution_count": 23,
     "metadata": {},
     "output_type": "execute_result"
    }
   ],
   "source": [
    "f=Blocks.objects.filter(pat_id='BB7-2').values()\n",
    "f"
   ]
  },
  {
   "cell_type": "code",
   "execution_count": 60,
   "metadata": {},
   "outputs": [
    {
     "data": {
      "text/plain": [
       "['DoesNotExist',\n",
       " 'MultipleObjectsReturned',\n",
       " '__class__',\n",
       " '__delattr__',\n",
       " '__dict__',\n",
       " '__dir__',\n",
       " '__doc__',\n",
       " '__eq__',\n",
       " '__format__',\n",
       " '__ge__',\n",
       " '__getattribute__',\n",
       " '__getstate__',\n",
       " '__gt__',\n",
       " '__hash__',\n",
       " '__init__',\n",
       " '__init_subclass__',\n",
       " '__le__',\n",
       " '__lt__',\n",
       " '__module__',\n",
       " '__ne__',\n",
       " '__new__',\n",
       " '__reduce__',\n",
       " '__reduce_ex__',\n",
       " '__repr__',\n",
       " '__setattr__',\n",
       " '__setstate__',\n",
       " '__sizeof__',\n",
       " '__str__',\n",
       " '__subclasshook__',\n",
       " '__weakref__',\n",
       " '_check_column_name_clashes',\n",
       " '_check_constraints',\n",
       " '_check_field_name_clashes',\n",
       " '_check_fields',\n",
       " '_check_id_field',\n",
       " '_check_index_together',\n",
       " '_check_indexes',\n",
       " '_check_local_fields',\n",
       " '_check_long_column_names',\n",
       " '_check_m2m_through_same_relationship',\n",
       " '_check_managers',\n",
       " '_check_model',\n",
       " '_check_model_name_db_lookup_clashes',\n",
       " '_check_ordering',\n",
       " '_check_property_name_related_field_accessor_clashes',\n",
       " '_check_single_primary_key',\n",
       " '_check_swappable',\n",
       " '_check_unique_together',\n",
       " '_do_insert',\n",
       " '_do_update',\n",
       " '_get_FIELD_display',\n",
       " '_get_next_or_previous_by_FIELD',\n",
       " '_get_next_or_previous_in_order',\n",
       " '_get_pk_val',\n",
       " '_get_unique_checks',\n",
       " '_meta',\n",
       " '_perform_date_checks',\n",
       " '_perform_unique_checks',\n",
       " '_save_parents',\n",
       " '_save_table',\n",
       " '_set_pk_val',\n",
       " '_state',\n",
       " 'areas_set',\n",
       " 'block_id',\n",
       " 'body_site',\n",
       " 'check',\n",
       " 'clean',\n",
       " 'clean_fields',\n",
       " 'date_error_message',\n",
       " 'delete',\n",
       " 'diagnosis',\n",
       " 'fixation',\n",
       " 'from_db',\n",
       " 'full_clean',\n",
       " 'get_deferred_fields',\n",
       " 'notes',\n",
       " 'objects',\n",
       " 'pat_id',\n",
       " 'pat_id_id',\n",
       " 'pk',\n",
       " 'prepare_database_save',\n",
       " 'project',\n",
       " 'receive',\n",
       " 'refresh_from_db',\n",
       " 'save',\n",
       " 'save_base',\n",
       " 'serializable_value',\n",
       " 'slides',\n",
       " 'slides_left',\n",
       " 'storage',\n",
       " 'ulceration',\n",
       " 'unique_error_message',\n",
       " 'validate_unique']"
      ]
     },
     "execution_count": 60,
     "metadata": {},
     "output_type": "execute_result"
    }
   ],
   "source": [
    "f=Blocks.objects.get(pat_id='BB7-2')\n",
    "dir(f)"
   ]
  },
  {
   "cell_type": "code",
   "execution_count": 27,
   "metadata": {},
   "outputs": [
    {
     "ename": "AttributeError",
     "evalue": "'Blocks' object has no attribute 'Patients'",
     "output_type": "error",
     "traceback": [
      "\u001b[0;31m---------------------------------------------------------------------------\u001b[0m",
      "\u001b[0;31mAttributeError\u001b[0m                            Traceback (most recent call last)",
      "\u001b[0;32m<ipython-input-27-d012b2080fdc>\u001b[0m in \u001b[0;36m<module>\u001b[0;34m\u001b[0m\n\u001b[0;32m----> 1\u001b[0;31m \u001b[0mf\u001b[0m\u001b[0;34m.\u001b[0m\u001b[0mPatients\u001b[0m\u001b[0;34m\u001b[0m\u001b[0;34m\u001b[0m\u001b[0m\n\u001b[0m",
      "\u001b[0;31mAttributeError\u001b[0m: 'Blocks' object has no attribute 'Patients'"
     ]
    }
   ],
   "source": [
    "f.Patients"
   ]
  },
  {
   "cell_type": "code",
   "execution_count": null,
   "metadata": {},
   "outputs": [],
   "source": []
  },
  {
   "cell_type": "code",
   "execution_count": null,
   "metadata": {},
   "outputs": [],
   "source": []
  },
  {
   "cell_type": "code",
   "execution_count": null,
   "metadata": {},
   "outputs": [],
   "source": []
  },
  {
   "cell_type": "code",
   "execution_count": null,
   "metadata": {},
   "outputs": [],
   "source": []
  },
  {
   "cell_type": "code",
   "execution_count": null,
   "metadata": {},
   "outputs": [],
   "source": []
  },
  {
   "cell_type": "code",
   "execution_count": null,
   "metadata": {},
   "outputs": [],
   "source": []
  },
  {
   "cell_type": "code",
   "execution_count": null,
   "metadata": {},
   "outputs": [],
   "source": []
  }
 ],
 "metadata": {
  "kernelspec": {
   "display_name": "Django Shell-Plus",
   "language": "python",
   "name": "django_extensions"
  },
  "language_info": {
   "codemirror_mode": {
    "name": "ipython",
    "version": 3
   },
   "file_extension": ".py",
   "mimetype": "text/x-python",
   "name": "python",
   "nbconvert_exporter": "python",
   "pygments_lexer": "ipython3",
   "version": "3.7.4"
  }
 },
 "nbformat": 4,
 "nbformat_minor": 2
}
