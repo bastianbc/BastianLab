{
 "cells": [
  {
   "cell_type": "code",
   "execution_count": 1,
   "metadata": {},
   "outputs": [],
   "source": [
    "import os\n",
    "os.environ[\"DJANGO_ALLOW_ASYNC_UNSAFE\"] = \"true\""
   ]
  },
  {
   "cell_type": "code",
   "execution_count": 2,
   "metadata": {},
   "outputs": [
    {
     "data": {
      "text/plain": [
       "'3.0.5'"
      ]
     },
     "execution_count": 2,
     "metadata": {},
     "output_type": "execute_result"
    }
   ],
   "source": [
    "import django\n",
    "django.get_version()"
   ]
  },
  {
   "cell_type": "code",
   "execution_count": 4,
   "metadata": {},
   "outputs": [
    {
     "data": {
      "text/plain": [
       "'/Users/borisbastian/opt/anaconda3/envs/labDB2/test1root/notebooks/training notebooks'"
      ]
     },
     "execution_count": 4,
     "metadata": {},
     "output_type": "execute_result"
    }
   ],
   "source": [
    "pwd"
   ]
  },
  {
   "cell_type": "code",
   "execution_count": 9,
   "metadata": {},
   "outputs": [
    {
     "ename": "SyntaxError",
     "evalue": "invalid syntax (<ipython-input-9-d6c65a1e1ff4>, line 1)",
     "output_type": "error",
     "traceback": [
      "\u001b[0;36m  File \u001b[0;32m\"<ipython-input-9-d6c65a1e1ff4>\"\u001b[0;36m, line \u001b[0;32m1\u001b[0m\n\u001b[0;31m    cd..\u001b[0m\n\u001b[0m       ^\u001b[0m\n\u001b[0;31mSyntaxError\u001b[0m\u001b[0;31m:\u001b[0m invalid syntax\n"
     ]
    }
   ],
   "source": [
    "cd.."
   ]
  },
  {
   "cell_type": "code",
   "execution_count": null,
   "metadata": {},
   "outputs": [],
   "source": []
  },
  {
   "cell_type": "code",
   "execution_count": 3,
   "metadata": {},
   "outputs": [
    {
     "ename": "ImproperlyConfigured",
     "evalue": "Requested setting DATABASES, but settings are not configured. You must either define the environment variable DJANGO_SETTINGS_MODULE or call settings.configure() before accessing settings.",
     "output_type": "error",
     "traceback": [
      "\u001b[0;31m---------------------------------------------------------------------------\u001b[0m",
      "\u001b[0;31mImproperlyConfigured\u001b[0m                      Traceback (most recent call last)",
      "\u001b[0;32m<ipython-input-3-2e87ca1e46b8>\u001b[0m in \u001b[0;36m<module>\u001b[0;34m\u001b[0m\n\u001b[1;32m      1\u001b[0m \u001b[0;32mfrom\u001b[0m \u001b[0mdjango\u001b[0m \u001b[0;32mimport\u001b[0m \u001b[0mdb\u001b[0m\u001b[0;34m\u001b[0m\u001b[0;34m\u001b[0m\u001b[0m\n\u001b[0;32m----> 2\u001b[0;31m \u001b[0mdb\u001b[0m\u001b[0;34m.\u001b[0m\u001b[0mconnections\u001b[0m\u001b[0;34m.\u001b[0m\u001b[0mclose_all\u001b[0m\u001b[0;34m(\u001b[0m\u001b[0;34m)\u001b[0m\u001b[0;34m\u001b[0m\u001b[0;34m\u001b[0m\u001b[0m\n\u001b[0m",
      "\u001b[0;32m~/opt/anaconda3/envs/labDB2/lib/python3.7/site-packages/django/db/utils.py\u001b[0m in \u001b[0;36mclose_all\u001b[0;34m(self)\u001b[0m\n\u001b[1;32m    223\u001b[0m \u001b[0;34m\u001b[0m\u001b[0m\n\u001b[1;32m    224\u001b[0m     \u001b[0;32mdef\u001b[0m \u001b[0mclose_all\u001b[0m\u001b[0;34m(\u001b[0m\u001b[0mself\u001b[0m\u001b[0;34m)\u001b[0m\u001b[0;34m:\u001b[0m\u001b[0;34m\u001b[0m\u001b[0;34m\u001b[0m\u001b[0m\n\u001b[0;32m--> 225\u001b[0;31m         \u001b[0;32mfor\u001b[0m \u001b[0malias\u001b[0m \u001b[0;32min\u001b[0m \u001b[0mself\u001b[0m\u001b[0;34m:\u001b[0m\u001b[0;34m\u001b[0m\u001b[0;34m\u001b[0m\u001b[0m\n\u001b[0m\u001b[1;32m    226\u001b[0m             \u001b[0;32mtry\u001b[0m\u001b[0;34m:\u001b[0m\u001b[0;34m\u001b[0m\u001b[0;34m\u001b[0m\u001b[0m\n\u001b[1;32m    227\u001b[0m                 \u001b[0mconnection\u001b[0m \u001b[0;34m=\u001b[0m \u001b[0mgetattr\u001b[0m\u001b[0;34m(\u001b[0m\u001b[0mself\u001b[0m\u001b[0;34m.\u001b[0m\u001b[0m_connections\u001b[0m\u001b[0;34m,\u001b[0m \u001b[0malias\u001b[0m\u001b[0;34m)\u001b[0m\u001b[0;34m\u001b[0m\u001b[0;34m\u001b[0m\u001b[0m\n",
      "\u001b[0;32m~/opt/anaconda3/envs/labDB2/lib/python3.7/site-packages/django/db/utils.py\u001b[0m in \u001b[0;36m__iter__\u001b[0;34m(self)\u001b[0m\n\u001b[1;32m    217\u001b[0m \u001b[0;34m\u001b[0m\u001b[0m\n\u001b[1;32m    218\u001b[0m     \u001b[0;32mdef\u001b[0m \u001b[0m__iter__\u001b[0m\u001b[0;34m(\u001b[0m\u001b[0mself\u001b[0m\u001b[0;34m)\u001b[0m\u001b[0;34m:\u001b[0m\u001b[0;34m\u001b[0m\u001b[0;34m\u001b[0m\u001b[0m\n\u001b[0;32m--> 219\u001b[0;31m         \u001b[0;32mreturn\u001b[0m \u001b[0miter\u001b[0m\u001b[0;34m(\u001b[0m\u001b[0mself\u001b[0m\u001b[0;34m.\u001b[0m\u001b[0mdatabases\u001b[0m\u001b[0;34m)\u001b[0m\u001b[0;34m\u001b[0m\u001b[0;34m\u001b[0m\u001b[0m\n\u001b[0m\u001b[1;32m    220\u001b[0m \u001b[0;34m\u001b[0m\u001b[0m\n\u001b[1;32m    221\u001b[0m     \u001b[0;32mdef\u001b[0m \u001b[0mall\u001b[0m\u001b[0;34m(\u001b[0m\u001b[0mself\u001b[0m\u001b[0;34m)\u001b[0m\u001b[0;34m:\u001b[0m\u001b[0;34m\u001b[0m\u001b[0;34m\u001b[0m\u001b[0m\n",
      "\u001b[0;32m~/opt/anaconda3/envs/labDB2/lib/python3.7/site-packages/django/utils/functional.py\u001b[0m in \u001b[0;36m__get__\u001b[0;34m(self, instance, cls)\u001b[0m\n\u001b[1;32m     46\u001b[0m         \u001b[0;32mif\u001b[0m \u001b[0minstance\u001b[0m \u001b[0;32mis\u001b[0m \u001b[0;32mNone\u001b[0m\u001b[0;34m:\u001b[0m\u001b[0;34m\u001b[0m\u001b[0;34m\u001b[0m\u001b[0m\n\u001b[1;32m     47\u001b[0m             \u001b[0;32mreturn\u001b[0m \u001b[0mself\u001b[0m\u001b[0;34m\u001b[0m\u001b[0;34m\u001b[0m\u001b[0m\n\u001b[0;32m---> 48\u001b[0;31m         \u001b[0mres\u001b[0m \u001b[0;34m=\u001b[0m \u001b[0minstance\u001b[0m\u001b[0;34m.\u001b[0m\u001b[0m__dict__\u001b[0m\u001b[0;34m[\u001b[0m\u001b[0mself\u001b[0m\u001b[0;34m.\u001b[0m\u001b[0mname\u001b[0m\u001b[0;34m]\u001b[0m \u001b[0;34m=\u001b[0m \u001b[0mself\u001b[0m\u001b[0;34m.\u001b[0m\u001b[0mfunc\u001b[0m\u001b[0;34m(\u001b[0m\u001b[0minstance\u001b[0m\u001b[0;34m)\u001b[0m\u001b[0;34m\u001b[0m\u001b[0;34m\u001b[0m\u001b[0m\n\u001b[0m\u001b[1;32m     49\u001b[0m         \u001b[0;32mreturn\u001b[0m \u001b[0mres\u001b[0m\u001b[0;34m\u001b[0m\u001b[0;34m\u001b[0m\u001b[0m\n\u001b[1;32m     50\u001b[0m \u001b[0;34m\u001b[0m\u001b[0m\n",
      "\u001b[0;32m~/opt/anaconda3/envs/labDB2/lib/python3.7/site-packages/django/db/utils.py\u001b[0m in \u001b[0;36mdatabases\u001b[0;34m(self)\u001b[0m\n\u001b[1;32m    151\u001b[0m     \u001b[0;32mdef\u001b[0m \u001b[0mdatabases\u001b[0m\u001b[0;34m(\u001b[0m\u001b[0mself\u001b[0m\u001b[0;34m)\u001b[0m\u001b[0;34m:\u001b[0m\u001b[0;34m\u001b[0m\u001b[0;34m\u001b[0m\u001b[0m\n\u001b[1;32m    152\u001b[0m         \u001b[0;32mif\u001b[0m \u001b[0mself\u001b[0m\u001b[0;34m.\u001b[0m\u001b[0m_databases\u001b[0m \u001b[0;32mis\u001b[0m \u001b[0;32mNone\u001b[0m\u001b[0;34m:\u001b[0m\u001b[0;34m\u001b[0m\u001b[0;34m\u001b[0m\u001b[0m\n\u001b[0;32m--> 153\u001b[0;31m             \u001b[0mself\u001b[0m\u001b[0;34m.\u001b[0m\u001b[0m_databases\u001b[0m \u001b[0;34m=\u001b[0m \u001b[0msettings\u001b[0m\u001b[0;34m.\u001b[0m\u001b[0mDATABASES\u001b[0m\u001b[0;34m\u001b[0m\u001b[0;34m\u001b[0m\u001b[0m\n\u001b[0m\u001b[1;32m    154\u001b[0m         \u001b[0;32mif\u001b[0m \u001b[0mself\u001b[0m\u001b[0;34m.\u001b[0m\u001b[0m_databases\u001b[0m \u001b[0;34m==\u001b[0m \u001b[0;34m{\u001b[0m\u001b[0;34m}\u001b[0m\u001b[0;34m:\u001b[0m\u001b[0;34m\u001b[0m\u001b[0;34m\u001b[0m\u001b[0m\n\u001b[1;32m    155\u001b[0m             self._databases = {\n",
      "\u001b[0;32m~/opt/anaconda3/envs/labDB2/lib/python3.7/site-packages/django/conf/__init__.py\u001b[0m in \u001b[0;36m__getattr__\u001b[0;34m(self, name)\u001b[0m\n\u001b[1;32m     74\u001b[0m         \u001b[0;34m\"\"\"Return the value of a setting and cache it in self.__dict__.\"\"\"\u001b[0m\u001b[0;34m\u001b[0m\u001b[0;34m\u001b[0m\u001b[0m\n\u001b[1;32m     75\u001b[0m         \u001b[0;32mif\u001b[0m \u001b[0mself\u001b[0m\u001b[0;34m.\u001b[0m\u001b[0m_wrapped\u001b[0m \u001b[0;32mis\u001b[0m \u001b[0mempty\u001b[0m\u001b[0;34m:\u001b[0m\u001b[0;34m\u001b[0m\u001b[0;34m\u001b[0m\u001b[0m\n\u001b[0;32m---> 76\u001b[0;31m             \u001b[0mself\u001b[0m\u001b[0;34m.\u001b[0m\u001b[0m_setup\u001b[0m\u001b[0;34m(\u001b[0m\u001b[0mname\u001b[0m\u001b[0;34m)\u001b[0m\u001b[0;34m\u001b[0m\u001b[0;34m\u001b[0m\u001b[0m\n\u001b[0m\u001b[1;32m     77\u001b[0m         \u001b[0mval\u001b[0m \u001b[0;34m=\u001b[0m \u001b[0mgetattr\u001b[0m\u001b[0;34m(\u001b[0m\u001b[0mself\u001b[0m\u001b[0;34m.\u001b[0m\u001b[0m_wrapped\u001b[0m\u001b[0;34m,\u001b[0m \u001b[0mname\u001b[0m\u001b[0;34m)\u001b[0m\u001b[0;34m\u001b[0m\u001b[0;34m\u001b[0m\u001b[0m\n\u001b[1;32m     78\u001b[0m         \u001b[0mself\u001b[0m\u001b[0;34m.\u001b[0m\u001b[0m__dict__\u001b[0m\u001b[0;34m[\u001b[0m\u001b[0mname\u001b[0m\u001b[0;34m]\u001b[0m \u001b[0;34m=\u001b[0m \u001b[0mval\u001b[0m\u001b[0;34m\u001b[0m\u001b[0;34m\u001b[0m\u001b[0m\n",
      "\u001b[0;32m~/opt/anaconda3/envs/labDB2/lib/python3.7/site-packages/django/conf/__init__.py\u001b[0m in \u001b[0;36m_setup\u001b[0;34m(self, name)\u001b[0m\n\u001b[1;32m     59\u001b[0m                 \u001b[0;34m\"You must either define the environment variable %s \"\u001b[0m\u001b[0;34m\u001b[0m\u001b[0;34m\u001b[0m\u001b[0m\n\u001b[1;32m     60\u001b[0m                 \u001b[0;34m\"or call settings.configure() before accessing settings.\"\u001b[0m\u001b[0;34m\u001b[0m\u001b[0;34m\u001b[0m\u001b[0m\n\u001b[0;32m---> 61\u001b[0;31m                 % (desc, ENVIRONMENT_VARIABLE))\n\u001b[0m\u001b[1;32m     62\u001b[0m \u001b[0;34m\u001b[0m\u001b[0m\n\u001b[1;32m     63\u001b[0m         \u001b[0mself\u001b[0m\u001b[0;34m.\u001b[0m\u001b[0m_wrapped\u001b[0m \u001b[0;34m=\u001b[0m \u001b[0mSettings\u001b[0m\u001b[0;34m(\u001b[0m\u001b[0msettings_module\u001b[0m\u001b[0;34m)\u001b[0m\u001b[0;34m\u001b[0m\u001b[0;34m\u001b[0m\u001b[0m\n",
      "\u001b[0;31mImproperlyConfigured\u001b[0m: Requested setting DATABASES, but settings are not configured. You must either define the environment variable DJANGO_SETTINGS_MODULE or call settings.configure() before accessing settings."
     ]
    }
   ],
   "source": [
    "from django import db\n",
    "db.connections.close_all()"
   ]
  },
  {
   "cell_type": "code",
   "execution_count": 4,
   "metadata": {},
   "outputs": [],
   "source": [
    "from django import forms"
   ]
  },
  {
   "cell_type": "code",
   "execution_count": 5,
   "metadata": {},
   "outputs": [],
   "source": [
    "class SimpleForm(forms.Form):\n",
    "    firstname=forms.CharField(max_length=100)\n",
    "    lastname=forms.CharField(max_length=100)"
   ]
  },
  {
   "cell_type": "code",
   "execution_count": 6,
   "metadata": {},
   "outputs": [],
   "source": [
    "f=SimpleForm()"
   ]
  },
  {
   "cell_type": "code",
   "execution_count": 7,
   "metadata": {},
   "outputs": [
    {
     "name": "stdout",
     "output_type": "stream",
     "text": [
      "<p><label for=\"id_firstname\">Firstname:</label> <input type=\"text\" name=\"firstname\" maxlength=\"100\" required id=\"id_firstname\"></p>\n",
      "<p><label for=\"id_lastname\">Lastname:</label> <input type=\"text\" name=\"lastname\" maxlength=\"100\" required id=\"id_lastname\"></p>\n"
     ]
    }
   ],
   "source": [
    "print(f.as_p())"
   ]
  },
  {
   "cell_type": "code",
   "execution_count": 8,
   "metadata": {},
   "outputs": [
    {
     "name": "stdout",
     "output_type": "stream",
     "text": [
      "<li><label for=\"id_firstname\">Firstname:</label> <input type=\"text\" name=\"firstname\" maxlength=\"100\" required id=\"id_firstname\"></li>\n",
      "<li><label for=\"id_lastname\">Lastname:</label> <input type=\"text\" name=\"lastname\" maxlength=\"100\" required id=\"id_lastname\"></li>\n"
     ]
    }
   ],
   "source": [
    "print(f.as_ul())"
   ]
  },
  {
   "cell_type": "code",
   "execution_count": 9,
   "metadata": {},
   "outputs": [
    {
     "name": "stdout",
     "output_type": "stream",
     "text": [
      "<tr><th><label for=\"id_firstname\">Firstname:</label></th><td><input type=\"text\" name=\"firstname\" maxlength=\"100\" required id=\"id_firstname\"></td></tr>\n",
      "<tr><th><label for=\"id_lastname\">Lastname:</label></th><td><input type=\"text\" name=\"lastname\" maxlength=\"100\" required id=\"id_lastname\"></td></tr>\n"
     ]
    }
   ],
   "source": [
    "print(f.as_table())"
   ]
  },
  {
   "cell_type": "code",
   "execution_count": 10,
   "metadata": {},
   "outputs": [],
   "source": [
    "f=SimpleForm({})"
   ]
  },
  {
   "cell_type": "code",
   "execution_count": 11,
   "metadata": {},
   "outputs": [
    {
     "data": {
      "text/plain": [
       "False"
      ]
     },
     "execution_count": 11,
     "metadata": {},
     "output_type": "execute_result"
    }
   ],
   "source": [
    "f.is_valid()"
   ]
  },
  {
   "cell_type": "code",
   "execution_count": 12,
   "metadata": {},
   "outputs": [
    {
     "data": {
      "text/plain": [
       "{'firstname': ['This field is required.'],\n",
       " 'lastname': ['This field is required.']}"
      ]
     },
     "execution_count": 12,
     "metadata": {},
     "output_type": "execute_result"
    }
   ],
   "source": [
    "f.errors"
   ]
  },
  {
   "cell_type": "code",
   "execution_count": 13,
   "metadata": {},
   "outputs": [
    {
     "name": "stdout",
     "output_type": "stream",
     "text": [
      "<ul class=\"errorlist\"><li>This field is required.</li></ul>\n",
      "<p><label for=\"id_firstname\">Firstname:</label> <input type=\"text\" name=\"firstname\" maxlength=\"100\" required id=\"id_firstname\"></p>\n",
      "<ul class=\"errorlist\"><li>This field is required.</li></ul>\n",
      "<p><label for=\"id_lastname\">Lastname:</label> <input type=\"text\" name=\"lastname\" maxlength=\"100\" required id=\"id_lastname\"></p>\n"
     ]
    }
   ],
   "source": [
    "print(f.as_p())"
   ]
  },
  {
   "cell_type": "code",
   "execution_count": 14,
   "metadata": {},
   "outputs": [],
   "source": [
    "from django.db.models import Model"
   ]
  },
  {
   "cell_type": "markdown",
   "metadata": {},
   "source": [
    "### This is how you write a record"
   ]
  },
  {
   "cell_type": "code",
   "execution_count": 15,
   "metadata": {},
   "outputs": [],
   "source": [
    "from quotes.models import Quote"
   ]
  },
  {
   "cell_type": "code",
   "execution_count": 16,
   "metadata": {},
   "outputs": [],
   "source": [
    "x=Quote(name='Dieter Kuschinski',company='Deppert & Co')"
   ]
  },
  {
   "cell_type": "code",
   "execution_count": 17,
   "metadata": {},
   "outputs": [],
   "source": [
    "x.save()"
   ]
  },
  {
   "cell_type": "markdown",
   "metadata": {},
   "source": [
    "### This is how you read a record"
   ]
  },
  {
   "cell_type": "code",
   "execution_count": 28,
   "metadata": {},
   "outputs": [],
   "source": [
    "q=Quote.objects.filter(name__startswith=('Dieter'))"
   ]
  },
  {
   "cell_type": "code",
   "execution_count": 29,
   "metadata": {},
   "outputs": [
    {
     "name": "stdout",
     "output_type": "stream",
     "text": [
      "<QuerySet [{'id': 1, 'name': 'Dieter Kuschinski', 'position': '', 'company': 'Deppert & Co', 'address': '', 'phone': '', 'email': '', 'web': '', 'description': '', 'sitestatus': '', 'priority': '', 'jobfile': '', 'submitted': datetime.date(2020, 5, 29), 'quotedate': None, 'quoteprice': Decimal('0.00'), 'username_id': None}]>\n"
     ]
    }
   ],
   "source": [
    "print(q.values())"
   ]
  },
  {
   "cell_type": "code",
   "execution_count": 20,
   "metadata": {},
   "outputs": [],
   "source": [
    "kwargs={'name':'Dieter Kuschinksi'}"
   ]
  },
  {
   "cell_type": "code",
   "execution_count": 21,
   "metadata": {},
   "outputs": [],
   "source": [
    "q=Quote.objects.filter(**kwargs)"
   ]
  },
  {
   "cell_type": "code",
   "execution_count": 30,
   "metadata": {},
   "outputs": [
    {
     "name": "stdout",
     "output_type": "stream",
     "text": [
      "<QuerySet [{'id': 1, 'name': 'Dieter Kuschinski', 'position': '', 'company': 'Deppert & Co', 'address': '', 'phone': '', 'email': '', 'web': '', 'description': '', 'sitestatus': '', 'priority': '', 'jobfile': '', 'submitted': datetime.date(2020, 5, 29), 'quotedate': None, 'quoteprice': Decimal('0.00'), 'username_id': None}]>\n"
     ]
    }
   ],
   "source": [
    "print(q.values())"
   ]
  },
  {
   "cell_type": "code",
   "execution_count": 23,
   "metadata": {},
   "outputs": [],
   "source": [
    "one_entry = Quote.objects.get(pk=1)"
   ]
  },
  {
   "cell_type": "code",
   "execution_count": 24,
   "metadata": {},
   "outputs": [
    {
     "name": "stdout",
     "output_type": "stream",
     "text": [
      "1\n"
     ]
    }
   ],
   "source": [
    "print(one_entry)"
   ]
  },
  {
   "cell_type": "code",
   "execution_count": 31,
   "metadata": {},
   "outputs": [],
   "source": [
    "one_entry = Quote.objects.filter(name='Boris Bastian').values()"
   ]
  },
  {
   "cell_type": "code",
   "execution_count": 32,
   "metadata": {},
   "outputs": [
    {
     "name": "stdout",
     "output_type": "stream",
     "text": [
      "<QuerySet [{'id': 2, 'name': 'Boris Bastian', 'position': 'Chef', 'company': 'Home', 'address': '31 Girard', 'phone': '4155133853', 'email': 'boris.bastian@ucsf.edu', 'web': '', 'description': 'No this is another attempt to add some more stuff in here', 'sitestatus': 'NEW', 'priority': 'U', 'jobfile': '', 'submitted': datetime.date(2020, 4, 15), 'quotedate': None, 'quoteprice': Decimal('0.00'), 'username_id': None}, {'id': 3, 'name': 'Boris Bastian', 'position': '', 'company': 'UCSF', 'address': '1701 Divisadero St', 'phone': '4155020267', 'email': 'boris.bastian@ucsf.edu', 'web': '', 'description': 'a;lkds;lfkja;sd', 'sitestatus': 'NEW', 'priority': 'U', 'jobfile': 'uploads/Contact_Apple_Store.html', 'submitted': datetime.date(2020, 4, 15), 'quotedate': None, 'quoteprice': Decimal('0.00'), 'username_id': None}, {'id': 4, 'name': 'Boris Bastian', 'position': '', 'company': 'UCSF', 'address': '1701 Divisadero St', 'phone': '4155020267', 'email': 'boris.bastian@ucsf.edu', 'web': '', 'description': 'a;lkds;lfkja;sd', 'sitestatus': 'NEW', 'priority': 'U', 'jobfile': 'uploads/Contact_Apple_Store_x4mVCQa.html', 'submitted': datetime.date(2020, 4, 15), 'quotedate': None, 'quoteprice': Decimal('0.00'), 'username_id': None}]>\n"
     ]
    }
   ],
   "source": [
    "print(one_entry)"
   ]
  },
  {
   "cell_type": "code",
   "execution_count": 22,
   "metadata": {},
   "outputs": [
    {
     "data": {
      "text/plain": [
       "<django.db.models.manager.Manager at 0x1045c1a90>"
      ]
     },
     "execution_count": 22,
     "metadata": {},
     "output_type": "execute_result"
    }
   ],
   "source": [
    "Quote.objects"
   ]
  },
  {
   "cell_type": "code",
   "execution_count": 49,
   "metadata": {},
   "outputs": [],
   "source": [
    "from lab.models import Patients, Blocks, Areas"
   ]
  },
  {
   "cell_type": "code",
   "execution_count": 50,
   "metadata": {},
   "outputs": [
    {
     "data": {
      "text/plain": [
       "<QuerySet [{'pat_id': 'AM2-027', 'sex': 'U', 'dob': None, 'race': 'U', 'source': 'Chile', 'blocks_temp': '\"501950_A3\\n\",501950_C', 'notes': '-', 'project': 'Acral Melanoma', 'pa_id': 12, 'date_added': datetime.datetime(2020, 5, 21, 0, 0, tzinfo=<UTC>)}, {'pat_id': 'AM2-029', 'sex': 'U', 'dob': None, 'race': 'U', 'source': 'Chile', 'blocks_temp': '\"610186_B\\n\",610186_A,610186_C,610186_D', 'notes': '-', 'project': 'Acral Melanoma', 'pa_id': 13, 'date_added': datetime.datetime(2020, 5, 21, 0, 0, tzinfo=<UTC>)}, {'pat_id': 'AM2-030', 'sex': 'U', 'dob': None, 'race': 'U', 'source': 'Chile', 'blocks_temp': '604076', 'notes': '-', 'project': 'Acral Melanoma', 'pa_id': 14, 'date_added': datetime.datetime(2020, 5, 21, 0, 0, tzinfo=<UTC>)}, {'pat_id': 'AM2-039', 'sex': 'U', 'dob': None, 'race': 'U', 'source': 'Chile', 'blocks_temp': '488836_A', 'notes': '-', 'project': 'Acral Melanoma', 'pa_id': 15, 'date_added': datetime.datetime(2020, 5, 21, 0, 0, tzinfo=<UTC>)}]>"
      ]
     },
     "execution_count": 50,
     "metadata": {},
     "output_type": "execute_result"
    }
   ],
   "source": [
    "Patients.objects.filter(source__startswith='Chile').values()"
   ]
  },
  {
   "cell_type": "code",
   "execution_count": 51,
   "metadata": {},
   "outputs": [
    {
     "data": {
      "text/plain": [
       "{'pat_id': 'AM2-027',\n",
       " 'sex': 'U',\n",
       " 'dob': None,\n",
       " 'race': 'U',\n",
       " 'source': 'Chile',\n",
       " 'blocks_temp': '\"501950_A3\\n\",501950_C',\n",
       " 'notes': '-',\n",
       " 'project': 'Acral Melanoma',\n",
       " 'pa_id': 12,\n",
       " 'date_added': datetime.datetime(2020, 5, 21, 0, 0, tzinfo=<UTC>)}"
      ]
     },
     "execution_count": 51,
     "metadata": {},
     "output_type": "execute_result"
    }
   ],
   "source": [
    "Patients.objects.filter(source__startswith='Chile').values()[0]"
   ]
  },
  {
   "cell_type": "code",
   "execution_count": 54,
   "metadata": {},
   "outputs": [
    {
     "data": {
      "text/plain": [
       "'\"501950_A3\\n\",501950_C'"
      ]
     },
     "execution_count": 54,
     "metadata": {},
     "output_type": "execute_result"
    }
   ],
   "source": [
    "Patients.objects.filter(source__startswith='Chile').values()[0].get('blocks_temp')"
   ]
  },
  {
   "cell_type": "code",
   "execution_count": 55,
   "metadata": {},
   "outputs": [
    {
     "name": "stdout",
     "output_type": "stream",
     "text": [
      "\"501950_A3\n",
      "\",501950_C\n",
      "\"610186_B\n",
      "\",610186_A,610186_C,610186_D\n",
      "604076\n",
      "488836_A\n"
     ]
    }
   ],
   "source": [
    "qs=Patients.objects.filter(source__startswith='Chile').values()\n",
    "for e in qs: \n",
    "    print(e.get('blocks_temp'))"
   ]
  },
  {
   "cell_type": "code",
   "execution_count": 57,
   "metadata": {},
   "outputs": [
    {
     "data": {
      "text/plain": [
       "'501950_A3\\n'"
      ]
     },
     "execution_count": 57,
     "metadata": {},
     "output_type": "execute_result"
    }
   ],
   "source": [
    "Blocks.objects.filter(patient__source='Chile').values()[0].get('old_block_id')"
   ]
  },
  {
   "cell_type": "code",
   "execution_count": 58,
   "metadata": {},
   "outputs": [],
   "source": [
    "bo=Blocks.objects.get(pk=1)"
   ]
  },
  {
   "cell_type": "code",
   "execution_count": 70,
   "metadata": {},
   "outputs": [
    {
     "name": "stdout",
     "output_type": "stream",
     "text": [
      "<class 'lab.models.Blocks'>\n"
     ]
    }
   ],
   "source": [
    "print(type(bo))"
   ]
  },
  {
   "cell_type": "code",
   "execution_count": 71,
   "metadata": {},
   "outputs": [
    {
     "name": "stdout",
     "output_type": "stream",
     "text": [
      "<class 'django.db.models.query.QuerySet'>\n"
     ]
    }
   ],
   "source": [
    "print(type(qs))"
   ]
  },
  {
   "cell_type": "code",
   "execution_count": 61,
   "metadata": {},
   "outputs": [
    {
     "data": {
      "text/plain": [
       "'352-1-15.3'"
      ]
     },
     "execution_count": 61,
     "metadata": {},
     "output_type": "execute_result"
    }
   ],
   "source": [
    "bo.old_block_id"
   ]
  },
  {
   "cell_type": "code",
   "execution_count": 65,
   "metadata": {},
   "outputs": [
    {
     "data": {
      "text/plain": [
       "'AMC-12'"
      ]
     },
     "execution_count": 65,
     "metadata": {},
     "output_type": "execute_result"
    }
   ],
   "source": [
    "bo.patient.pat_id"
   ]
  },
  {
   "cell_type": "code",
   "execution_count": 67,
   "metadata": {},
   "outputs": [
    {
     "ename": "AttributeError",
     "evalue": "'Patients' object has no attribute 'get'",
     "output_type": "error",
     "traceback": [
      "\u001b[0;31m---------------------------------------------------------------------------\u001b[0m",
      "\u001b[0;31mAttributeError\u001b[0m                            Traceback (most recent call last)",
      "\u001b[0;32m<ipython-input-67-d3f6378ab03d>\u001b[0m in \u001b[0;36m<module>\u001b[0;34m\u001b[0m\n\u001b[0;32m----> 1\u001b[0;31m \u001b[0mbo\u001b[0m\u001b[0;34m.\u001b[0m\u001b[0mpatient\u001b[0m\u001b[0;34m.\u001b[0m\u001b[0mget\u001b[0m\u001b[0;34m(\u001b[0m\u001b[0;34m'pat_id'\u001b[0m\u001b[0;34m)\u001b[0m\u001b[0;34m\u001b[0m\u001b[0;34m\u001b[0m\u001b[0m\n\u001b[0m",
      "\u001b[0;31mAttributeError\u001b[0m: 'Patients' object has no attribute 'get'"
     ]
    }
   ],
   "source": [
    "bo.patient.get('pat_id')"
   ]
  },
  {
   "cell_type": "code",
   "execution_count": 68,
   "metadata": {},
   "outputs": [
    {
     "ename": "SyntaxError",
     "evalue": "keyword can't be an expression (<ipython-input-68-07c65e493dc1>, line 1)",
     "output_type": "error",
     "traceback": [
      "\u001b[0;36m  File \u001b[0;32m\"<ipython-input-68-07c65e493dc1>\"\u001b[0;36m, line \u001b[0;32m1\u001b[0m\n\u001b[0;31m    Patients.objects.get(bo.patient=Patients.pa_id)\u001b[0m\n\u001b[0m                        ^\u001b[0m\n\u001b[0;31mSyntaxError\u001b[0m\u001b[0;31m:\u001b[0m keyword can't be an expression\n"
     ]
    }
   ],
   "source": [
    "Patients.objects.get(bo.patient=Patients.pa_id)"
   ]
  },
  {
   "cell_type": "code",
   "execution_count": 7,
   "metadata": {},
   "outputs": [
    {
     "data": {
      "text/plain": [
       "<QuerySet [('AM2-030', 'F', 61.0, 'U', 'Chile', '604076', 'Nonsense', 'Acral Melanoma'), ('BB3-1', 'M', None, 'U', 'Chile', None, None, 'None')]>"
      ]
     },
     "execution_count": 7,
     "metadata": {},
     "output_type": "execute_result"
    }
   ],
   "source": [
    "Patients.objects.filter(source__startswith='Chile').values_list()"
   ]
  },
  {
   "cell_type": "code",
   "execution_count": 22,
   "metadata": {},
   "outputs": [
    {
     "data": {
      "text/plain": [
       "<QuerySet [{'pat_id': 'AM2-030', 'sex': 'F', 'age': 61.0, 'race': 'U', 'source': 'Chile', 'blocks_temp': '604076', 'notes': 'Nonsense', 'project': 'Acral Melanoma'}, {'pat_id': 'BB3-1', 'sex': 'M', 'age': None, 'race': 'U', 'source': 'Chile', 'blocks_temp': None, 'notes': None, 'project': 'None'}]>"
      ]
     },
     "execution_count": 22,
     "metadata": {},
     "output_type": "execute_result"
    }
   ],
   "source": [
    "q=Patients.objects.filter(source__startswith='Chile').values()\n",
    "q"
   ]
  },
  {
   "cell_type": "code",
   "execution_count": 9,
   "metadata": {},
   "outputs": [
    {
     "data": {
      "text/plain": [
       "<QuerySet [{'project': 'Acral Melanoma'}, {'project': 'Acral Melanoma'}, {'project': 'Acral Melanoma'}, {'project': 'Acral Melanoma'}, {'project': 'Acral Melanoma'}, {'project': 'Acral Melanoma'}, {'project': 'Acral Melanoma'}, {'project': 'Acral Melanoma'}, {'project': 'Acral Melanoma'}, {'project': 'Acral Melanoma'}, {'project': 'Acral Melanoma'}, {'project': 'Acral Melanoma'}, {'project': 'Acral Melanoma'}, {'project': 'Acral Melanoma'}, {'project': 'Acral Melanoma'}, {'project': 'Acral Melanoma'}, {'project': 'Acral Melanoma'}, {'project': 'Acral Melanoma'}, {'project': 'Acral Melanoma'}, {'project': 'Acral Melanoma'}, '...(remaining elements truncated)...']>"
      ]
     },
     "execution_count": 9,
     "metadata": {},
     "output_type": "execute_result"
    }
   ],
   "source": [
    "p=Patients.objects.filter(source__startswith='Japan')\n",
    "p.values('project')"
   ]
  },
  {
   "cell_type": "code",
   "execution_count": 61,
   "metadata": {},
   "outputs": [
    {
     "data": {
      "text/plain": [
       "3"
      ]
     },
     "execution_count": 61,
     "metadata": {},
     "output_type": "execute_result"
    }
   ],
   "source": [
    "q=Patients.objects.get(pat_id='AM2-040')\n",
    "q.blocks_set.count()"
   ]
  },
  {
   "cell_type": "code",
   "execution_count": null,
   "metadata": {},
   "outputs": [],
   "source": []
  },
  {
   "cell_type": "code",
   "execution_count": 62,
   "metadata": {},
   "outputs": [
    {
     "name": "stdout",
     "output_type": "stream",
     "text": [
      "<QuerySet [{'block_id': 'B13.26332/1', 'pat_id_id': 'AM2-040', 'body_site': None, 'ulceration': None, 'slides': None, 'slides_left': None, 'fixation': 'FFPE', 'project': 'Acral melanoma', 'diagnosis': None, 'storage': None, 'notes': None, 'receive': None}, {'block_id': 'H13.10897/2', 'pat_id_id': 'AM2-040', 'body_site': None, 'ulceration': None, 'slides': None, 'slides_left': None, 'fixation': 'FFPE', 'project': 'Acral melanoma', 'diagnosis': None, 'storage': None, 'notes': None, 'receive': None}, {'block_id': 'H13.10897/11', 'pat_id_id': 'AM2-040', 'body_site': None, 'ulceration': None, 'slides': None, 'slides_left': None, 'fixation': 'FFPE', 'project': 'Acral melanoma', 'diagnosis': None, 'storage': None, 'notes': None, 'receive': None}]>\n"
     ]
    }
   ],
   "source": [
    "p=q.blocks_set.all()\n",
    "print(p.values())"
   ]
  },
  {
   "cell_type": "code",
   "execution_count": 34,
   "metadata": {},
   "outputs": [
    {
     "ename": "AttributeError",
     "evalue": "'Patients' object has no attribute 'entry_set'",
     "output_type": "error",
     "traceback": [
      "\u001b[0;31m---------------------------------------------------------------------------\u001b[0m",
      "\u001b[0;31mAttributeError\u001b[0m                            Traceback (most recent call last)",
      "\u001b[0;32m<ipython-input-34-db8cd072cfaa>\u001b[0m in \u001b[0;36m<module>\u001b[0;34m\u001b[0m\n\u001b[0;32m----> 1\u001b[0;31m \u001b[0mq\u001b[0m\u001b[0;34m.\u001b[0m\u001b[0mentry_set\u001b[0m\u001b[0;34m.\u001b[0m\u001b[0mall\u001b[0m\u001b[0;34m(\u001b[0m\u001b[0;34m)\u001b[0m\u001b[0;34m\u001b[0m\u001b[0;34m\u001b[0m\u001b[0m\n\u001b[0m",
      "\u001b[0;31mAttributeError\u001b[0m: 'Patients' object has no attribute 'entry_set'"
     ]
    }
   ],
   "source": [
    "q.entry_set.all()"
   ]
  },
  {
   "cell_type": "code",
   "execution_count": 37,
   "metadata": {},
   "outputs": [],
   "source": [
    "f=Blocks.objects.get(pk=12)"
   ]
  },
  {
   "cell_type": "code",
   "execution_count": 41,
   "metadata": {},
   "outputs": [
    {
     "data": {
      "text/plain": [
       "'left plantar skin'"
      ]
     },
     "execution_count": 41,
     "metadata": {},
     "output_type": "execute_result"
    }
   ],
   "source": [
    "f.body_site"
   ]
  },
  {
   "cell_type": "code",
   "execution_count": 43,
   "metadata": {},
   "outputs": [
    {
     "data": {
      "text/plain": [
       "'AM2-004'"
      ]
     },
     "execution_count": 43,
     "metadata": {},
     "output_type": "execute_result"
    }
   ],
   "source": [
    "f.patient.pat_id"
   ]
  },
  {
   "cell_type": "code",
   "execution_count": null,
   "metadata": {},
   "outputs": [],
   "source": []
  },
  {
   "cell_type": "code",
   "execution_count": 76,
   "metadata": {},
   "outputs": [
    {
     "data": {
      "text/plain": [
       "['DoesNotExist',\n",
       " 'MultipleObjectsReturned',\n",
       " '__class__',\n",
       " '__delattr__',\n",
       " '__dict__',\n",
       " '__dir__',\n",
       " '__doc__',\n",
       " '__eq__',\n",
       " '__format__',\n",
       " '__ge__',\n",
       " '__getattribute__',\n",
       " '__getstate__',\n",
       " '__gt__',\n",
       " '__hash__',\n",
       " '__init__',\n",
       " '__init_subclass__',\n",
       " '__le__',\n",
       " '__lt__',\n",
       " '__module__',\n",
       " '__ne__',\n",
       " '__new__',\n",
       " '__reduce__',\n",
       " '__reduce_ex__',\n",
       " '__repr__',\n",
       " '__setattr__',\n",
       " '__setstate__',\n",
       " '__sizeof__',\n",
       " '__str__',\n",
       " '__subclasshook__',\n",
       " '__weakref__',\n",
       " '_check_column_name_clashes',\n",
       " '_check_constraints',\n",
       " '_check_field_name_clashes',\n",
       " '_check_fields',\n",
       " '_check_id_field',\n",
       " '_check_index_together',\n",
       " '_check_indexes',\n",
       " '_check_local_fields',\n",
       " '_check_long_column_names',\n",
       " '_check_m2m_through_same_relationship',\n",
       " '_check_managers',\n",
       " '_check_model',\n",
       " '_check_model_name_db_lookup_clashes',\n",
       " '_check_ordering',\n",
       " '_check_property_name_related_field_accessor_clashes',\n",
       " '_check_single_primary_key',\n",
       " '_check_swappable',\n",
       " '_check_unique_together',\n",
       " '_do_insert',\n",
       " '_do_update',\n",
       " '_get_FIELD_display',\n",
       " '_get_next_or_previous_by_FIELD',\n",
       " '_get_next_or_previous_in_order',\n",
       " '_get_pk_val',\n",
       " '_get_unique_checks',\n",
       " '_meta',\n",
       " '_perform_date_checks',\n",
       " '_perform_unique_checks',\n",
       " '_save_parents',\n",
       " '_save_table',\n",
       " '_set_pk_val',\n",
       " '_state',\n",
       " 'age',\n",
       " 'blocks_set',\n",
       " 'blocks_temp',\n",
       " 'check',\n",
       " 'clean',\n",
       " 'clean_fields',\n",
       " 'date_error_message',\n",
       " 'delete',\n",
       " 'from_db',\n",
       " 'full_clean',\n",
       " 'get_absolute_url',\n",
       " 'get_deferred_fields',\n",
       " 'notes',\n",
       " 'objects',\n",
       " 'pat_id',\n",
       " 'pk',\n",
       " 'prepare_database_save',\n",
       " 'project',\n",
       " 'race',\n",
       " 'refresh_from_db',\n",
       " 'save',\n",
       " 'save_base',\n",
       " 'serializable_value',\n",
       " 'sex',\n",
       " 'source',\n",
       " 'unique_error_message',\n",
       " 'validate_unique']"
      ]
     },
     "execution_count": 76,
     "metadata": {},
     "output_type": "execute_result"
    }
   ],
   "source": [
    "dir(f.pat_id)"
   ]
  },
  {
   "cell_type": "code",
   "execution_count": 65,
   "metadata": {},
   "outputs": [
    {
     "data": {
      "text/plain": [
       "(<ManyToOneRel: lab.areas>,\n",
       " <django.db.models.fields.CharField: block_id>,\n",
       " <django.db.models.fields.related.ForeignKey: pat_id>,\n",
       " <django.db.models.fields.CharField: body_site>,\n",
       " <django.db.models.fields.BooleanField: ulceration>,\n",
       " <django.db.models.fields.IntegerField: slides>,\n",
       " <django.db.models.fields.IntegerField: slides_left>,\n",
       " <django.db.models.fields.CharField: fixation>,\n",
       " <django.db.models.fields.CharField: project>,\n",
       " <django.db.models.fields.CharField: diagnosis>,\n",
       " <django.db.models.fields.CharField: storage>,\n",
       " <django.db.models.fields.CharField: notes>,\n",
       " <django.db.models.fields.DateField: receive>)"
      ]
     },
     "execution_count": 65,
     "metadata": {},
     "output_type": "execute_result"
    }
   ],
   "source": [
    "Blocks._meta.get_fields()"
   ]
  },
  {
   "cell_type": "markdown",
   "metadata": {},
   "source": [
    "### Going from Blocks to get the Patient in the parent and then get all his blocks"
   ]
  },
  {
   "cell_type": "code",
   "execution_count": 71,
   "metadata": {},
   "outputs": [
    {
     "data": {
      "text/plain": [
       "<Patients: Patients object (AM2-040)>"
      ]
     },
     "execution_count": 71,
     "metadata": {},
     "output_type": "execute_result"
    }
   ],
   "source": [
    "f.pat_id"
   ]
  },
  {
   "cell_type": "code",
   "execution_count": 81,
   "metadata": {},
   "outputs": [
    {
     "data": {
      "text/plain": [
       "3"
      ]
     },
     "execution_count": 81,
     "metadata": {},
     "output_type": "execute_result"
    }
   ],
   "source": [
    "f.pat_id.blocks_set.count()"
   ]
  },
  {
   "cell_type": "code",
   "execution_count": 23,
   "metadata": {},
   "outputs": [
    {
     "data": {
      "text/plain": [
       "<QuerySet [{'block_id': 'H13-123123', 'pat_id_id': 'BB7-2', 'body_site': 'Left gluteal', 'ulceration': None, 'slides': None, 'slides_left': None, 'fixation': None, 'project': None, 'diagnosis': None, 'storage': None, 'notes': None, 'receive': None}]>"
      ]
     },
     "execution_count": 23,
     "metadata": {},
     "output_type": "execute_result"
    }
   ],
   "source": [
    "f=Blocks.objects.filter(pat_id='BB7-2').values()\n",
    "f"
   ]
  },
  {
   "cell_type": "code",
   "execution_count": 60,
   "metadata": {},
   "outputs": [
    {
     "data": {
      "text/plain": [
       "['DoesNotExist',\n",
       " 'MultipleObjectsReturned',\n",
       " '__class__',\n",
       " '__delattr__',\n",
       " '__dict__',\n",
       " '__dir__',\n",
       " '__doc__',\n",
       " '__eq__',\n",
       " '__format__',\n",
       " '__ge__',\n",
       " '__getattribute__',\n",
       " '__getstate__',\n",
       " '__gt__',\n",
       " '__hash__',\n",
       " '__init__',\n",
       " '__init_subclass__',\n",
       " '__le__',\n",
       " '__lt__',\n",
       " '__module__',\n",
       " '__ne__',\n",
       " '__new__',\n",
       " '__reduce__',\n",
       " '__reduce_ex__',\n",
       " '__repr__',\n",
       " '__setattr__',\n",
       " '__setstate__',\n",
       " '__sizeof__',\n",
       " '__str__',\n",
       " '__subclasshook__',\n",
       " '__weakref__',\n",
       " '_check_column_name_clashes',\n",
       " '_check_constraints',\n",
       " '_check_field_name_clashes',\n",
       " '_check_fields',\n",
       " '_check_id_field',\n",
       " '_check_index_together',\n",
       " '_check_indexes',\n",
       " '_check_local_fields',\n",
       " '_check_long_column_names',\n",
       " '_check_m2m_through_same_relationship',\n",
       " '_check_managers',\n",
       " '_check_model',\n",
       " '_check_model_name_db_lookup_clashes',\n",
       " '_check_ordering',\n",
       " '_check_property_name_related_field_accessor_clashes',\n",
       " '_check_single_primary_key',\n",
       " '_check_swappable',\n",
       " '_check_unique_together',\n",
       " '_do_insert',\n",
       " '_do_update',\n",
       " '_get_FIELD_display',\n",
       " '_get_next_or_previous_by_FIELD',\n",
       " '_get_next_or_previous_in_order',\n",
       " '_get_pk_val',\n",
       " '_get_unique_checks',\n",
       " '_meta',\n",
       " '_perform_date_checks',\n",
       " '_perform_unique_checks',\n",
       " '_save_parents',\n",
       " '_save_table',\n",
       " '_set_pk_val',\n",
       " '_state',\n",
       " 'areas_set',\n",
       " 'block_id',\n",
       " 'body_site',\n",
       " 'check',\n",
       " 'clean',\n",
       " 'clean_fields',\n",
       " 'date_error_message',\n",
       " 'delete',\n",
       " 'diagnosis',\n",
       " 'fixation',\n",
       " 'from_db',\n",
       " 'full_clean',\n",
       " 'get_deferred_fields',\n",
       " 'notes',\n",
       " 'objects',\n",
       " 'pat_id',\n",
       " 'pat_id_id',\n",
       " 'pk',\n",
       " 'prepare_database_save',\n",
       " 'project',\n",
       " 'receive',\n",
       " 'refresh_from_db',\n",
       " 'save',\n",
       " 'save_base',\n",
       " 'serializable_value',\n",
       " 'slides',\n",
       " 'slides_left',\n",
       " 'storage',\n",
       " 'ulceration',\n",
       " 'unique_error_message',\n",
       " 'validate_unique']"
      ]
     },
     "execution_count": 60,
     "metadata": {},
     "output_type": "execute_result"
    }
   ],
   "source": [
    "f=Blocks.objects.get(pat_id='BB7-2')\n",
    "dir(f)"
   ]
  },
  {
   "cell_type": "code",
   "execution_count": 27,
   "metadata": {},
   "outputs": [
    {
     "ename": "AttributeError",
     "evalue": "'Blocks' object has no attribute 'Patients'",
     "output_type": "error",
     "traceback": [
      "\u001b[0;31m---------------------------------------------------------------------------\u001b[0m",
      "\u001b[0;31mAttributeError\u001b[0m                            Traceback (most recent call last)",
      "\u001b[0;32m<ipython-input-27-d012b2080fdc>\u001b[0m in \u001b[0;36m<module>\u001b[0;34m\u001b[0m\n\u001b[0;32m----> 1\u001b[0;31m \u001b[0mf\u001b[0m\u001b[0;34m.\u001b[0m\u001b[0mPatients\u001b[0m\u001b[0;34m\u001b[0m\u001b[0;34m\u001b[0m\u001b[0m\n\u001b[0m",
      "\u001b[0;31mAttributeError\u001b[0m: 'Blocks' object has no attribute 'Patients'"
     ]
    }
   ],
   "source": [
    "f.Patients"
   ]
  },
  {
   "cell_type": "code",
   "execution_count": null,
   "metadata": {},
   "outputs": [],
   "source": []
  },
  {
   "cell_type": "code",
   "execution_count": null,
   "metadata": {},
   "outputs": [],
   "source": []
  },
  {
   "cell_type": "code",
   "execution_count": null,
   "metadata": {},
   "outputs": [],
   "source": []
  },
  {
   "cell_type": "code",
   "execution_count": null,
   "metadata": {},
   "outputs": [],
   "source": []
  },
  {
   "cell_type": "code",
   "execution_count": null,
   "metadata": {},
   "outputs": [],
   "source": []
  },
  {
   "cell_type": "code",
   "execution_count": null,
   "metadata": {},
   "outputs": [],
   "source": []
  },
  {
   "cell_type": "code",
   "execution_count": null,
   "metadata": {},
   "outputs": [],
   "source": []
  }
 ],
 "metadata": {
  "kernelspec": {
   "display_name": "Django Shell-Plus",
   "language": "python",
   "name": "django_extensions"
  },
  "language_info": {
   "codemirror_mode": {
    "name": "ipython",
    "version": 3
   },
   "file_extension": ".py",
   "mimetype": "text/x-python",
   "name": "python",
   "nbconvert_exporter": "python",
   "pygments_lexer": "ipython3",
   "version": "3.7.4"
  }
 },
 "nbformat": 4,
 "nbformat_minor": 2
}
